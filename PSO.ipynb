{
  "nbformat": 4,
  "nbformat_minor": 0,
  "metadata": {
    "colab": {
      "name": "PSO.ipynb",
      "provenance": [],
      "authorship_tag": "ABX9TyMT8v97rOuhtIj+uM49ThWB",
      "include_colab_link": true
    },
    "kernelspec": {
      "name": "python3",
      "display_name": "Python 3"
    }
  },
  "cells": [
    {
      "cell_type": "markdown",
      "metadata": {
        "id": "view-in-github",
        "colab_type": "text"
      },
      "source": [
        "<a href=\"https://colab.research.google.com/github/matheusortiz/atividade-pso/blob/main/PSO.ipynb\" target=\"_parent\"><img src=\"https://colab.research.google.com/assets/colab-badge.svg\" alt=\"Open In Colab\"/></a>"
      ]
    },
    {
      "cell_type": "markdown",
      "metadata": {
        "id": "3zJj6_GB8L5n"
      },
      "source": [
        "**Mestrado em Computação Aplicada - UEPG**\n",
        "\n",
        "***Algoritmos e Programação de Computadores***\n",
        "\n",
        "*Aluno: Matheus Ortiz*\n",
        "\n",
        "# Particle Swarm Optimization\n",
        "\n",
        "## Utilizando PySwarms\n",
        "\n"
      ]
    },
    {
      "cell_type": "code",
      "metadata": {
        "id": "A122SZyQ9KWl",
        "outputId": "e71bf9c2-b7b5-425d-9bd3-3d3d3aeaa2f6",
        "colab": {
          "base_uri": "https://localhost:8080/",
          "height": 221
        }
      },
      "source": [
        "# instalando o PySwarms\n",
        "!pip install PySwarms"
      ],
      "execution_count": 1,
      "outputs": [
        {
          "output_type": "stream",
          "text": [
            "Requirement already satisfied: PySwarms in /usr/local/lib/python3.6/dist-packages (1.1.0)\n",
            "Requirement already satisfied: tqdm in /usr/local/lib/python3.6/dist-packages (from PySwarms) (4.41.1)\n",
            "Requirement already satisfied: scipy in /usr/local/lib/python3.6/dist-packages (from PySwarms) (1.4.1)\n",
            "Requirement already satisfied: matplotlib>=1.3.1 in /usr/local/lib/python3.6/dist-packages (from PySwarms) (3.2.2)\n",
            "Requirement already satisfied: future in /usr/local/lib/python3.6/dist-packages (from PySwarms) (0.16.0)\n",
            "Requirement already satisfied: attrs in /usr/local/lib/python3.6/dist-packages (from PySwarms) (20.2.0)\n",
            "Requirement already satisfied: numpy in /usr/local/lib/python3.6/dist-packages (from PySwarms) (1.18.5)\n",
            "Requirement already satisfied: python-dateutil>=2.1 in /usr/local/lib/python3.6/dist-packages (from matplotlib>=1.3.1->PySwarms) (2.8.1)\n",
            "Requirement already satisfied: pyparsing!=2.0.4,!=2.1.2,!=2.1.6,>=2.0.1 in /usr/local/lib/python3.6/dist-packages (from matplotlib>=1.3.1->PySwarms) (2.4.7)\n",
            "Requirement already satisfied: kiwisolver>=1.0.1 in /usr/local/lib/python3.6/dist-packages (from matplotlib>=1.3.1->PySwarms) (1.2.0)\n",
            "Requirement already satisfied: cycler>=0.10 in /usr/local/lib/python3.6/dist-packages (from matplotlib>=1.3.1->PySwarms) (0.10.0)\n",
            "Requirement already satisfied: six>=1.5 in /usr/local/lib/python3.6/dist-packages (from python-dateutil>=2.1->matplotlib>=1.3.1->PySwarms) (1.15.0)\n"
          ],
          "name": "stdout"
        }
      ]
    },
    {
      "cell_type": "code",
      "metadata": {
        "id": "6dzb55mY-XFN"
      },
      "source": [
        "# importações\n",
        "import matplotlib.pyplot as plt\n",
        "import numpy as np\n",
        "from IPython.display import Image\n",
        "import pyswarms as ps\n",
        "from pyswarms.utils.functions import single_obj as fx\n",
        "from pyswarms.utils.plotters import (plot_cost_history, plot_contour, plot_surface)\n",
        "\n",
        "%load_ext autoreload\n",
        "%autoreload 2"
      ],
      "execution_count": 2,
      "outputs": []
    },
    {
      "cell_type": "markdown",
      "metadata": {
        "id": "HnSblKpEAPcn"
      },
      "source": [
        "## Função Sphere"
      ]
    },
    {
      "cell_type": "code",
      "metadata": {
        "id": "QG71CElI-_tP",
        "outputId": "d985adbf-b121-46c3-c3e2-99ab2ae32906",
        "colab": {
          "base_uri": "https://localhost:8080/",
          "height": 241
        }
      },
      "source": [
        "%%time\n",
        "options = {'c1': 0.5, 'c2': 0.3, 'w':0.9}\n",
        "\n",
        "# Chama a instância do PSO\n",
        "optimizer = ps.single.GlobalBestPSO(n_particles=30, dimensions=30, options=options)\n",
        "\n",
        "# otimiza a função\n",
        "cost, pos = optimizer.optimize(fx.sphere, iters=1000)"
      ],
      "execution_count": 3,
      "outputs": [
        {
          "output_type": "stream",
          "text": [
            "2020-10-20 04:00:31,914 - pyswarms.single.global_best - INFO - Optimize for 1000 iters with {'c1': 0.5, 'c2': 0.3, 'w': 0.9}\n",
            "pyswarms.single.global_best: 100%|██████████|1000/1000, best_cost=0.000454\n",
            "2020-10-20 04:00:33,652 - pyswarms.single.global_best - INFO - Optimization finished | best cost: 0.00045424263738026737, best pos: [ 1.00553655e-03  6.77493073e-03  1.03540144e-02  1.50125511e-03\n",
            " -5.15326648e-04 -5.08232455e-04 -2.20961752e-03 -7.38538040e-04\n",
            "  1.75931698e-03  4.47375201e-03 -2.25286055e-03  2.75140123e-04\n",
            "  6.54832579e-04  9.83963582e-05 -1.54246000e-04  1.77918126e-03\n",
            " -3.15097455e-04 -4.94109674e-03 -1.14888067e-02 -2.34497555e-04\n",
            " -5.48815363e-04 -2.73043530e-03  9.30121255e-03 -2.65545038e-03\n",
            "  1.26171157e-03  4.85886438e-07 -3.41924041e-04 -5.44940681e-04\n",
            " -3.03955353e-04 -2.28560467e-04]\n"
          ],
          "name": "stderr"
        },
        {
          "output_type": "stream",
          "text": [
            "CPU times: user 1.26 s, sys: 174 ms, total: 1.43 s\n",
            "Wall time: 1.75 s\n"
          ],
          "name": "stdout"
        }
      ]
    },
    {
      "cell_type": "code",
      "metadata": {
        "id": "0wul0D1sADez",
        "outputId": "5b7a2d12-91ce-46d0-ad10-7b3bae919630",
        "colab": {
          "base_uri": "https://localhost:8080/",
          "height": 513
        }
      },
      "source": [
        "plot_cost_history(cost_history=optimizer.cost_history)\n",
        "plt.show()"
      ],
      "execution_count": 4,
      "outputs": [
        {
          "output_type": "display_data",
          "data": {
            "image/png": "[encoded data removed]",
            "text/plain": [
              "<Figure size 720x576 with 1 Axes>"
            ]
          },
          "metadata": {
            "tags": [],
            "needs_background": "light"
          }
        }
      ]
    },
    {
      "cell_type": "markdown",
      "metadata": {
        "id": "-WoylmTrAu28"
      },
      "source": [
        "## Função Rastrigrin"
      ]
    },
    {
      "cell_type": "code",
      "metadata": {
        "id": "-oiy3nI1A2gJ",
        "outputId": "369e7b42-7cd0-493c-e131-66b114817ce3",
        "colab": {
          "base_uri": "https://localhost:8080/",
          "height": 241
        }
      },
      "source": [
        "%%time\n",
        "# Define limites\n",
        "max_bound = 5.12 * np.ones(30)\n",
        "min_bound = - max_bound\n",
        "bounds = (min_bound, max_bound)\n",
        "\n",
        "options = {'c1': 0.5, 'c2': 0.3, 'w':0.9}\n",
        "\n",
        "optimizer = ps.single.GlobalBestPSO(n_particles=30, dimensions=30, options=options, bounds=bounds)\n",
        "\n",
        "cost, pos = optimizer.optimize(fx.rastrigin, iters=1000)"
      ],
      "execution_count": 5,
      "outputs": [
        {
          "output_type": "stream",
          "text": [
            "2020-10-20 04:00:34,254 - pyswarms.single.global_best - INFO - Optimize for 1000 iters with {'c1': 0.5, 'c2': 0.3, 'w': 0.9}\n",
            "pyswarms.single.global_best: 100%|██████████|1000/1000, best_cost=54\n",
            "2020-10-20 04:00:36,096 - pyswarms.single.global_best - INFO - Optimization finished | best cost: 53.978807233769516, best pos: [-1.04672287e+00  1.02255534e+00  9.92142646e-01  2.99287620e+00\n",
            "  1.95168256e+00  3.51723186e-03  1.00546553e+00  5.74863249e-04\n",
            "  9.99464828e-01  4.12802728e-03 -9.52664732e-01 -2.00076748e+00\n",
            " -1.47882073e-01 -9.97787476e-01 -9.96960032e-01 -9.53524223e-01\n",
            "  3.39517846e-03  1.98652742e+00  1.05982518e+00  9.92850733e-01\n",
            " -1.99826097e+00  9.98237234e-01  8.99494529e-03 -9.97608498e-01\n",
            "  9.85462702e-01 -1.06406734e+00 -4.63042047e-02 -8.64914347e-04\n",
            "  9.80964677e-01 -8.44060255e-01]\n"
          ],
          "name": "stderr"
        },
        {
          "output_type": "stream",
          "text": [
            "CPU times: user 1.5 s, sys: 176 ms, total: 1.68 s\n",
            "Wall time: 1.86 s\n"
          ],
          "name": "stdout"
        }
      ]
    },
    {
      "cell_type": "code",
      "metadata": {
        "id": "gmOBB4ZpBiGi",
        "outputId": "459c3c18-4708-4f0e-f9a0-9fcf212a7436",
        "colab": {
          "base_uri": "https://localhost:8080/",
          "height": 513
        }
      },
      "source": [
        "plot_cost_history(cost_history=optimizer.cost_history)\n",
        "plt.show()"
      ],
      "execution_count": 6,
      "outputs": [
        {
          "output_type": "display_data",
          "data": {
            "image/png": "[encoded data removed]",
            "text/plain": [
              "<Figure size 720x576 with 1 Axes>"
            ]
          },
          "metadata": {
            "tags": [],
            "needs_background": "light"
          }
        }
      ]
    },
    {
      "cell_type": "markdown",
      "metadata": {
        "id": "koxCPUCPCACw"
      },
      "source": [
        "## Função Rosenbrock"
      ]
    },
    {
      "cell_type": "code",
      "metadata": {
        "id": "5sssMLhfDZNt",
        "outputId": "3ca033d2-b950-49fe-fcf3-b98982eebc8a",
        "colab": {
          "base_uri": "https://localhost:8080/",
          "height": 190
        }
      },
      "source": [
        "%%time\n",
        "x_max = 10 * np.ones(30)\n",
        "x_min = -1 * x_max\n",
        "bounds = (x_min, x_max)\n",
        "\n",
        "options = {'c1': 0.5, 'c2': 0.3, 'w':0.9}\n",
        "\n",
        "optimizer = ps.single.GlobalBestPSO(n_particles=30, dimensions=30, options=options, bounds=bounds)\n",
        "\n",
        "cost, pos = optimizer.optimize(fx.rosenbrock, iters=1000)"
      ],
      "execution_count": 7,
      "outputs": [
        {
          "output_type": "stream",
          "text": [
            "2020-10-20 04:00:36,566 - pyswarms.single.global_best - INFO - Optimize for 1000 iters with {'c1': 0.5, 'c2': 0.3, 'w': 0.9}\n",
            "pyswarms.single.global_best: 100%|██████████|1000/1000, best_cost=827\n",
            "2020-10-20 04:00:38,523 - pyswarms.single.global_best - INFO - Optimization finished | best cost: 826.5533323294729, best pos: [-0.79175303  0.61553455  0.26403772 -0.76782435  0.77611337  0.6524839\n",
            "  0.11281789 -0.53210275  0.62781023  0.10451284 -0.93432498  1.2147163\n",
            "  1.13218822  1.13155457  0.71163108  0.18542451 -0.82933288  1.19620151\n",
            "  1.36314926  1.08415901  0.69630061  0.12862568 -0.53547762  0.42734089\n",
            "  0.44998749  0.2479917   0.19195993 -1.34929079  2.66331832  7.11141617]\n"
          ],
          "name": "stderr"
        },
        {
          "output_type": "stream",
          "text": [
            "CPU times: user 1.53 s, sys: 174 ms, total: 1.7 s\n",
            "Wall time: 1.97 s\n"
          ],
          "name": "stdout"
        }
      ]
    },
    {
      "cell_type": "code",
      "metadata": {
        "id": "7GaFXVPOEUk-",
        "outputId": "469becdb-ba6a-4a99-81c2-7046a70ea072",
        "colab": {
          "base_uri": "https://localhost:8080/",
          "height": 513
        }
      },
      "source": [
        "plot_cost_history(cost_history=optimizer.cost_history)\n",
        "plt.show()"
      ],
      "execution_count": 8,
      "outputs": [
        {
          "output_type": "display_data",
          "data": {
            "image/png": "[encoded data removed]",
            "text/plain": [
              "<Figure size 720x576 with 1 Axes>"
            ]
          },
          "metadata": {
            "tags": [],
            "needs_background": "light"
          }
        }
      ]
    },
    {
      "cell_type": "markdown",
      "metadata": {
        "id": "Xo1A6iO7IagM"
      },
      "source": [
        "## Função Schaffer"
      ]
    },
    {
      "cell_type": "code",
      "metadata": {
        "id": "gUmVB-tNHNDd",
        "outputId": "a380cf2c-a460-41ca-c1c4-8e739efb0cb5",
        "colab": {
          "base_uri": "https://localhost:8080/",
          "height": 102
        }
      },
      "source": [
        "%%time\n",
        "options = {'c1': 0.5, 'c2': 0.3, 'w':0.9}\n",
        "\n",
        "optimizer = ps.single.GlobalBestPSO(n_particles=30, dimensions=2, options=options)\n",
        "\n",
        "cost, pos = optimizer.optimize(fx.schaffer2, iters=1000)"
      ],
      "execution_count": 9,
      "outputs": [
        {
          "output_type": "stream",
          "text": [
            "2020-10-20 04:00:39,031 - pyswarms.single.global_best - INFO - Optimize for 1000 iters with {'c1': 0.5, 'c2': 0.3, 'w': 0.9}\n",
            "pyswarms.single.global_best: 100%|██████████|1000/1000, best_cost=0\n",
            "2020-10-20 04:00:40,536 - pyswarms.single.global_best - INFO - Optimization finished | best cost: 0.0, best pos: [1.56802507e-07 6.43935985e-08]\n"
          ],
          "name": "stderr"
        },
        {
          "output_type": "stream",
          "text": [
            "CPU times: user 1.12 s, sys: 155 ms, total: 1.28 s\n",
            "Wall time: 1.52 s\n"
          ],
          "name": "stdout"
        }
      ]
    },
    {
      "cell_type": "code",
      "metadata": {
        "id": "m22nSZYkJBK7",
        "outputId": "49c99a69-f9a7-43eb-b693-ad020661428b",
        "colab": {
          "base_uri": "https://localhost:8080/",
          "height": 513
        }
      },
      "source": [
        "plot_cost_history(cost_history=optimizer.cost_history)\n",
        "plt.show()"
      ],
      "execution_count": 10,
      "outputs": [
        {
          "output_type": "display_data",
          "data": {
            "image/png": "[encoded data removed]",
            "text/plain": [
              "<Figure size 720x576 with 1 Axes>"
            ]
          },
          "metadata": {
            "tags": [],
            "needs_background": "light"
          }
        }
      ]
    }
  ]
}